{
 "cells": [
  {
   "cell_type": "markdown",
   "metadata": {},
   "source": [
    "# 循环\n",
    "- 循环是一种控制语句块重复执行的结构\n",
    "- while  适用于广度遍历\n",
    "- for    开发中经常使用"
   ]
  },
  {
   "cell_type": "markdown",
   "metadata": {},
   "source": [
    "广度遍历\n",
    "深度遍历\n",
    "\n",
    "\n",
    "堆\n",
    "层层堆叠\n",
    "栈\n",
    "\n",
    "队列\n",
    "先进先出。单向走"
   ]
  },
  {
   "cell_type": "markdown",
   "metadata": {},
   "source": [
    "## while 循环\n",
    "- 当一个条件保持真的时候while循环重复执行语句\n",
    "- while 循环一定要有结束条件，否则很容易进入死循环\n",
    "- while 循环的语法是：\n",
    "\n",
    "    while loop-contunuation-conndition:\n",
    "\n",
    "        Statement"
   ]
  },
  {
   "cell_type": "markdown",
   "metadata": {},
   "source": [
    "## 示例：\n",
    "sum = 0\n",
    "\n",
    "i = 1\n",
    "\n",
    "while i <10:\n",
    "\n",
    "    sum = sum + i\n",
    "    i = i + 1"
   ]
  },
  {
   "cell_type": "markdown",
   "metadata": {},
   "source": [
    "## 错误示例：\n",
    "sum = 0\n",
    "\n",
    "i = 1\n",
    "\n",
    "while i <10:\n",
    "\n",
    "    sum = sum + i\n",
    "\n",
    "i = i + 1\n",
    "- 一旦进入死循环可按 Ctrl + c 停止"
   ]
  },
  {
   "cell_type": "markdown",
   "metadata": {},
   "source": [
    "## EP：\n",
    "![](../Photo/143.png)\n",
    "![](../Photo/144.png)"
   ]
  },
  {
   "cell_type": "markdown",
   "metadata": {},
   "source": [
    "# 验证码\n",
    "- 随机产生四个字母的验证码，如果正确，输出验证码正确。如果错误，产生新的验证码，用户重新输入。\n",
    "- 验证码只能输入三次，如果三次都错，返回“别爬了，我们小网站没什么好爬的”\n",
    "- 密码登录，如果三次错误，账号被锁定\n"
   ]
  },
  {
   "cell_type": "code",
   "execution_count": 1,
   "metadata": {},
   "outputs": [
    {
     "ename": "IndentationError",
     "evalue": "unexpected indent (<ipython-input-1-67fb6912e707>, line 3)",
     "output_type": "error",
     "traceback": [
      "\u001b[1;36m  File \u001b[1;32m\"<ipython-input-1-67fb6912e707>\"\u001b[1;36m, line \u001b[1;32m3\u001b[0m\n\u001b[1;33m    a = random.randint(random.randint(65,90),random.randint(97,122))\u001b[0m\n\u001b[1;37m    ^\u001b[0m\n\u001b[1;31mIndentationError\u001b[0m\u001b[1;31m:\u001b[0m unexpected indent\n"
     ]
    }
   ],
   "source": [
    "import random\n",
    "#for i in range(4):\n",
    " a = random.randint(97,122)\n",
    "   # random.shuffle()\n",
    "print(a)\n",
    "    \n",
    "    \n",
    "\n"
   ]
  },
  {
   "cell_type": "markdown",
   "metadata": {},
   "source": [
    "## 尝试死循环"
   ]
  },
  {
   "cell_type": "markdown",
   "metadata": {},
   "source": [
    "## 实例研究：猜数字\n",
    "- 你将要编写一个能够随机生成一个0到10之间的且包括两者的数字程序，这个程序\n",
    "- 提示用户连续地输入数字直到正确，且提示用户输入的数字是过高还是过低"
   ]
  },
  {
   "cell_type": "markdown",
   "metadata": {},
   "source": [
    "## 使用哨兵值来控制循环\n",
    "- 哨兵值来表明输入的结束\n",
    "- ![](../Photo/54.png)"
   ]
  },
  {
   "cell_type": "markdown",
   "metadata": {},
   "source": [
    "## 警告\n",
    "![](../Photo/55.png)"
   ]
  },
  {
   "cell_type": "markdown",
   "metadata": {},
   "source": [
    "## for 循环\n",
    "- Python的for 循环通过一个序列中的每个值来进行迭代\n",
    "- range(a,b,k)， a，b，k 必须为整数\n",
    "- a: start\n",
    "- b: end\n",
    "- k: step\n",
    "- 注意for 是循环一切可迭代对象，而不是只能使用range"
   ]
  },
  {
   "cell_type": "markdown",
   "metadata": {},
   "source": [
    "range(0,10,2) 0-10 不长2\n",
    "\n",
    "dir（333）  存在 _iter_ 说明可以进行for循环\n",
    "\n",
    "一切皆对象\n",
    "\n"
   ]
  },
  {
   "cell_type": "markdown",
   "metadata": {},
   "source": [
    "# 在Python里面一切皆对象"
   ]
  },
  {
   "cell_type": "markdown",
   "metadata": {},
   "source": [
    "## EP:\n",
    "- ![](../Photo/145.png)"
   ]
  },
  {
   "cell_type": "code",
   "execution_count": 7,
   "metadata": {},
   "outputs": [
    {
     "name": "stdout",
     "output_type": "stream",
     "text": [
      "s\n",
      "f\n",
      "w\n",
      "e\n",
      "a\n",
      "e\n",
      "f\n",
      "e\n",
      "w\n",
      "e\n",
      "f\n",
      "a\n"
     ]
    }
   ],
   "source": [
    "s = \"sfweaefewefa\"\n",
    "i=0\n",
    "while i<12 :\n",
    "    print(s[i])\n",
    "    i=i+1"
   ]
  },
  {
   "cell_type": "markdown",
   "metadata": {},
   "source": [
    "## 嵌套循环\n",
    "- 一个循环可以嵌套另一个循环\n",
    "- 每次循环外层时，内层循环都会被刷新重新完成循环\n",
    "- 也就是说，大循环执行一次，小循环会全部执行一次\n",
    "- 注意：\n",
    "> - 多层循环非常耗时\n",
    "  - 最多使用3层循环"
   ]
  },
  {
   "cell_type": "markdown",
   "metadata": {},
   "source": [
    "## EP：\n",
    "- 使用多层循环完成9X9乘法表\n",
    "- 显示50以内所有的素数"
   ]
  },
  {
   "cell_type": "code",
   "execution_count": 11,
   "metadata": {},
   "outputs": [
    {
     "name": "stdout",
     "output_type": "stream",
     "text": [
      "1 2 3 4 5 6 7 8 9 \n",
      "\n",
      "2 4 6 8 10 12 14 16 18 \n",
      "\n",
      "3 6 9 12 15 18 21 24 27 \n",
      "\n",
      "4 8 12 16 20 24 28 32 36 \n",
      "\n",
      "5 10 15 20 25 30 35 40 45 \n",
      "\n",
      "6 12 18 24 30 36 42 48 54 \n",
      "\n",
      "7 14 21 28 35 42 49 56 63 \n",
      "\n",
      "8 16 24 32 40 48 56 64 72 \n",
      "\n",
      "9 18 27 36 45 54 63 72 81 \n",
      "\n"
     ]
    }
   ],
   "source": [
    "i = 0\n",
    "j = 0\n",
    "for i in range(9):\n",
    "    i = i +1\n",
    "    for j in range(9):\n",
    "        j = j+1\n",
    "        print(str(i*j)+' ',end='')\n",
    "    print('\\n')"
   ]
  },
  {
   "cell_type": "markdown",
   "metadata": {},
   "source": [
    "## 关键字 break 和 continue\n",
    "- break 跳出循环，终止循环\n",
    "- continue 跳出此次循环，继续执行"
   ]
  },
  {
   "cell_type": "markdown",
   "metadata": {},
   "source": [
    "## 注意\n",
    "![](../Photo/56.png)\n",
    "![](../Photo/57.png)"
   ]
  },
  {
   "cell_type": "markdown",
   "metadata": {},
   "source": [
    "# Homework\n",
    "- 1 \n",
    "![](../Photo/58.png)"
   ]
  },
  {
   "cell_type": "code",
   "execution_count": 24,
   "metadata": {},
   "outputs": [
    {
     "name": "stdout",
     "output_type": "stream",
     "text": [
      ">>>1\n",
      ">>>2\n",
      ">>>-1\n",
      ">>>3\n",
      ">>>0\n",
      "正数:3\n",
      "负数:1\n",
      "总和:5\n",
      "平均值:1.25\n"
     ]
    }
   ],
   "source": [
    "pos = 0\n",
    "neg = 0\n",
    "sum_ = 0\n",
    "i=0\n",
    "while True:\n",
    "    num = eval(input(\">>>\"))\n",
    "    if num == 0:\n",
    "               break\n",
    "    elif num > int(0):\n",
    "               pos=pos+1\n",
    "    elif num < 0:\n",
    "               neg=neg+1\n",
    "    sum_ = sum_ + num\n",
    "    i=i+1\n",
    "p = round(sum_/i,2)\n",
    "print(\"正数:\"+str(pos)+\"\\n负数:\"+str(neg)+\"\\n总和:\"+str(sum_)+\"\\n平均值:\"+str(p))"
   ]
  },
  {
   "cell_type": "markdown",
   "metadata": {},
   "source": [
    "- 2\n",
    "![](../Photo/59.png)"
   ]
  },
  {
   "cell_type": "code",
   "execution_count": 10,
   "metadata": {},
   "outputs": [
    {
     "name": "stdout",
     "output_type": "stream",
     "text": [
      "第1年起总学费：45256.3125\n",
      "第2年起总学费：47519.128125\n",
      "第3年起总学费：49895.08453125\n",
      "第4年起总学费：52389.838757812504\n",
      "第5年起总学费：55009.33069570313\n",
      "第6年起总学费：57759.797230488286\n",
      "第7年起总学费：60647.7870920127\n",
      "第8年起总学费：63680.17644661334\n",
      "第9年起总学费：66864.18526894401\n",
      "第10年起总学费：70207.39453239122\n",
      "十年后学费：16288.946267774418\n"
     ]
    }
   ],
   "source": [
    "money=10000\n",
    "i=0\n",
    "j=0\n",
    "money_1=money\n",
    "money_4=0\n",
    "s4=0\n",
    "for i in range (10):\n",
    "    money_1=money_1*(1+0.05) \n",
    "    money_4=money_1\n",
    "    for j in range(4):\n",
    "        s4=s4+money_4\n",
    "        money_4=money_4*(1+0.05)\n",
    "    print(\"第\"+str(i+1)+\"年起4年学费：\"+str(s4))\n",
    "    s4=0\n",
    "print(\"十年后学费：\"+str(money_1))"
   ]
  },
  {
   "cell_type": "markdown",
   "metadata": {},
   "source": [
    "- 3\n",
    "![](../Photo/58.png)"
   ]
  },
  {
   "cell_type": "markdown",
   "metadata": {},
   "source": [
    "同1"
   ]
  },
  {
   "cell_type": "markdown",
   "metadata": {},
   "source": [
    "- 4\n",
    "![](../Photo/60.png)"
   ]
  },
  {
   "cell_type": "code",
   "execution_count": 33,
   "metadata": {},
   "outputs": [
    {
     "name": "stdout",
     "output_type": "stream",
     "text": [
      "120 150 180 210 240 270 300 330 360 390 \n",
      "\n",
      "420 450 480 510 540 570 600 630 660 690 \n",
      "\n",
      "720 750 780 810 840 870 900 930 960 990 \n",
      "\n"
     ]
    }
   ],
   "source": [
    "j=0\n",
    "for i in range(100,1000):\n",
    "    if i%5==0 and i%6==0:\n",
    "        print(str(i)+\" \",end='')\n",
    "        j=j+1\n",
    "        if j%10==0:\n",
    "            print('\\n')"
   ]
  },
  {
   "cell_type": "markdown",
   "metadata": {},
   "source": [
    "- 5\n",
    "![](../Photo/61.png)"
   ]
  },
  {
   "cell_type": "code",
   "execution_count": 35,
   "metadata": {},
   "outputs": [
    {
     "name": "stdout",
     "output_type": "stream",
     "text": [
      "110\n",
      "22\n"
     ]
    }
   ],
   "source": [
    "n=0\n",
    "while True:\n",
    "    n=n+1\n",
    "    if n**2 > 12000:\n",
    "        print(n)\n",
    "        break\n",
    "n=0\n",
    "while True:\n",
    "    n=n+1\n",
    "    if n**3 > 12000:\n",
    "        print(n-1)\n",
    "        break"
   ]
  },
  {
   "cell_type": "markdown",
   "metadata": {},
   "source": [
    "- 6\n",
    "![](../Photo/62.png)"
   ]
  },
  {
   "cell_type": "code",
   "execution_count": 44,
   "metadata": {},
   "outputs": [
    {
     "name": "stdout",
     "output_type": "stream",
     "text": [
      "输入贷款额度10000\n",
      "输入贷款周期5\n",
      "5.000% 175.0 10500.0\n",
      "5.125% 175.21 10512.5\n",
      "5.250% 175.42 10525.0\n",
      "5.375% 175.62 10537.5\n",
      "5.500% 175.83 10550.0\n",
      "5.625% 176.04 10562.5\n",
      "5.750% 176.25 10575.0\n",
      "5.875% 176.46 10587.5\n",
      "6.000% 176.67 10600.0\n",
      "6.125% 176.88 10612.5\n",
      "6.250% 177.08 10625.0\n",
      "6.375% 177.29 10637.5\n",
      "6.500% 177.5 10650.0\n",
      "6.625% 177.71 10662.5\n",
      "6.750% 177.92 10675.0\n",
      "6.875% 178.12 10687.5\n",
      "7.000% 178.33 10700.0\n",
      "7.125% 178.54 10712.5\n",
      "7.250% 178.75 10725.0\n",
      "7.375% 178.96 10737.5\n",
      "7.500% 179.17 10750.0\n",
      "7.625% 179.38 10762.5\n",
      "7.750% 179.58 10775.0\n",
      "7.875% 179.79 10787.5\n"
     ]
    }
   ],
   "source": [
    "dk = eval(input(\"输入贷款额度\"))\n",
    "dk_0=dk\n",
    "y = eval(input(\"输入贷款周期\"))\n",
    "r=0.05\n",
    "while r <= 0.08:\n",
    "    dk_0=dk_0*(1+r)\n",
    "    m=dk_0/(y*12)\n",
    "    r_=format(r,'.3%')\n",
    "    m_=round(m,2)\n",
    "    dk_1=round(dk_0,2)\n",
    "    print(r_,m_,dk_1)\n",
    "    r=r+0.01/8\n",
    "    dk_0=dk"
   ]
  },
  {
   "cell_type": "markdown",
   "metadata": {},
   "source": [
    "- 7\n",
    "![](../Photo/63.png)"
   ]
  },
  {
   "cell_type": "code",
   "execution_count": 53,
   "metadata": {},
   "outputs": [
    {
     "name": "stdout",
     "output_type": "stream",
     "text": [
      "0\n",
      "11.397003949278504\n"
     ]
    }
   ],
   "source": [
    "sum_1=0\n",
    "sum_2=0\n",
    "for i in range(50000,0):\n",
    "    sum_1=sum_1+1/i\n",
    "    print(sum_1)\n",
    "print(sum_1)\n",
    "\n",
    "for j in range(1,50001):\n",
    "    sum_2=sum_2+1/j\n",
    "print(sum_2)\n"
   ]
  },
  {
   "cell_type": "markdown",
   "metadata": {},
   "source": [
    "- 8\n",
    "![](../Photo/64.png)"
   ]
  },
  {
   "cell_type": "code",
   "execution_count": 57,
   "metadata": {},
   "outputs": [
    {
     "name": "stdout",
     "output_type": "stream",
     "text": [
      "45.124450303050196\n"
     ]
    }
   ],
   "source": [
    "sum_ = 0\n",
    "for i in range(1,98,2):\n",
    "    sum_=sum_+i/(i+2)\n",
    "print(sum_)"
   ]
  },
  {
   "cell_type": "markdown",
   "metadata": {},
   "source": [
    "- 9\n",
    "![](../Photo/65.png)"
   ]
  },
  {
   "cell_type": "code",
   "execution_count": 59,
   "metadata": {},
   "outputs": [
    {
     "name": "stdout",
     "output_type": "stream",
     "text": [
      "i=10000:3.1414926535900345\n",
      "i=20000:6.283035307179826\n",
      "i=30000:9.42459462743631\n",
      "i=40000:12.566162281026036\n",
      "i=50000:15.707734934615797\n",
      "i=60000:18.849310921538994\n",
      "i=70000:21.990889289414817\n",
      "i=80000:25.13246944300482\n",
      "i=90000:28.27405098548388\n",
      "i=100000:31.415633639074002\n"
     ]
    }
   ],
   "source": [
    "sum_ = 0\n",
    "for i in range(10000,110000,10000):\n",
    "    for j in range(1,2*i,2):\n",
    "        sum_=sum_+(((-1)**((j+3)/2))/(j))*4\n",
    "    print(\"i=\"+str(i)+\":\"+str(sum_))"
   ]
  },
  {
   "cell_type": "markdown",
   "metadata": {},
   "source": [
    "- 10 \n",
    "![](../Photo/66.png)"
   ]
  },
  {
   "cell_type": "code",
   "execution_count": 67,
   "metadata": {
    "scrolled": true
   },
   "outputs": [
    {
     "name": "stdout",
     "output_type": "stream",
     "text": [
      "6\n",
      "28\n",
      "496\n",
      "8128\n"
     ]
    }
   ],
   "source": [
    "sum_=0\n",
    "for i in range(1,10000):\n",
    "    for k in range(1,i):\n",
    "        if i%k==0 :\n",
    "            sum_=sum_+k\n",
    "    if sum_ == i:\n",
    "        print(i)\n",
    "    sum_=0\n",
    "        "
   ]
  },
  {
   "cell_type": "markdown",
   "metadata": {},
   "source": [
    "- 11\n",
    "![](../Photo/67.png)"
   ]
  },
  {
   "cell_type": "code",
   "execution_count": 78,
   "metadata": {},
   "outputs": [
    {
     "name": "stdout",
     "output_type": "stream",
     "text": [
      "1 2\n",
      "1 3\n",
      "1 4\n",
      "1 5\n",
      "1 6\n",
      "1 7\n",
      "2 3\n",
      "2 4\n",
      "2 5\n",
      "2 6\n",
      "2 7\n",
      "3 4\n",
      "3 5\n",
      "3 6\n",
      "3 7\n",
      "4 5\n",
      "4 6\n",
      "4 7\n",
      "5 6\n",
      "5 7\n",
      "6 7\n",
      "\n",
      "个数：21\n"
     ]
    }
   ],
   "source": [
    "s=0\n",
    "for n in range(1,8):\n",
    "    for g in range(n+1,8):\n",
    "        print(n,g)\n",
    "        s=s+1\n",
    "print('\\n个数：'+str(s))"
   ]
  },
  {
   "cell_type": "markdown",
   "metadata": {},
   "source": [
    "- 12\n",
    "![](../Photo/68.png)"
   ]
  },
  {
   "cell_type": "code",
   "execution_count": null,
   "metadata": {},
   "outputs": [],
   "source": []
  }
 ],
 "metadata": {
  "kernelspec": {
   "display_name": "Python 3",
   "language": "python",
   "name": "python3"
  },
  "language_info": {
   "codemirror_mode": {
    "name": "ipython",
    "version": 3
   },
   "file_extension": ".py",
   "mimetype": "text/x-python",
   "name": "python",
   "nbconvert_exporter": "python",
   "pygments_lexer": "ipython3",
   "version": "3.6.4"
  }
 },
 "nbformat": 4,
 "nbformat_minor": 2
}
